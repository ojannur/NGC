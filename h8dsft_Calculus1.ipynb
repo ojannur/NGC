{
  "nbformat": 4,
  "nbformat_minor": 0,
  "metadata": {
    "colab": {
      "provenance": []
    },
    "kernelspec": {
      "name": "python3",
      "display_name": "Python 3"
    },
    "language_info": {
      "name": "python"
    }
  },
  "cells": [
    {
      "cell_type": "code",
      "source": [
        "import sympy as sy"
      ],
      "metadata": {
        "id": "q9ZKx2f4QwpT"
      },
      "execution_count": 1,
      "outputs": []
    },
    {
      "cell_type": "code",
      "execution_count": 2,
      "metadata": {
        "id": "TqSEybHFIj6j"
      },
      "outputs": [],
      "source": [
        "x = sy.Symbol('x')\n",
        "y = sy.Symbol('y')"
      ]
    },
    {
      "cell_type": "code",
      "source": [
        "y = x**2 + 2*x + 1\n",
        "y"
      ],
      "metadata": {
        "colab": {
          "base_uri": "https://localhost:8080/",
          "height": 38
        },
        "id": "jcFvU_B7QxQh",
        "outputId": "3fcb0677-61d3-4012-f80c-0a877276818d"
      },
      "execution_count": 6,
      "outputs": [
        {
          "output_type": "execute_result",
          "data": {
            "text/plain": [
              "x**2 + 2*x + 1"
            ],
            "text/latex": "$\\displaystyle x^{2} + 2 x + 1$"
          },
          "metadata": {},
          "execution_count": 6
        }
      ]
    },
    {
      "cell_type": "code",
      "source": [
        "z = 4*x**3 + 3*x**2 + 2*x - 1\n",
        "z"
      ],
      "metadata": {
        "colab": {
          "base_uri": "https://localhost:8080/",
          "height": 38
        },
        "id": "KbjHavnyRdfD",
        "outputId": "9e461c8d-7208-43bd-a0b2-a78113f2d476"
      },
      "execution_count": 5,
      "outputs": [
        {
          "output_type": "execute_result",
          "data": {
            "text/plain": [
              "4*x**3 + 3*x**2 + 2*x - 1"
            ],
            "text/latex": "$\\displaystyle 4 x^{3} + 3 x^{2} + 2 x - 1$"
          },
          "metadata": {},
          "execution_count": 5
        }
      ]
    },
    {
      "cell_type": "code",
      "source": [
        "# turunan dari y\n",
        "\n",
        "df = y.diff()\n",
        "df"
      ],
      "metadata": {
        "colab": {
          "base_uri": "https://localhost:8080/",
          "height": 38
        },
        "id": "-4pzF_9TR019",
        "outputId": "4e6f1851-291a-44cd-a00c-b07de5ca9a9e"
      },
      "execution_count": 7,
      "outputs": [
        {
          "output_type": "execute_result",
          "data": {
            "text/plain": [
              "2*x + 2"
            ],
            "text/latex": "$\\displaystyle 2 x + 2$"
          },
          "metadata": {},
          "execution_count": 7
        }
      ]
    },
    {
      "cell_type": "code",
      "source": [
        "# turunan dari z\n",
        "\n",
        "df1 = z.diff()\n",
        "df1"
      ],
      "metadata": {
        "colab": {
          "base_uri": "https://localhost:8080/",
          "height": 38
        },
        "id": "1fsOk_TlR7y4",
        "outputId": "dac08e75-6db8-4bdb-beec-179f5c3ac6f1"
      },
      "execution_count": 8,
      "outputs": [
        {
          "output_type": "execute_result",
          "data": {
            "text/plain": [
              "12*x**2 + 6*x + 2"
            ],
            "text/latex": "$\\displaystyle 12 x^{2} + 6 x + 2$"
          },
          "metadata": {},
          "execution_count": 8
        }
      ]
    },
    {
      "cell_type": "code",
      "source": [],
      "metadata": {
        "id": "Xhkkq21uSAmO"
      },
      "execution_count": null,
      "outputs": []
    }
  ]
}