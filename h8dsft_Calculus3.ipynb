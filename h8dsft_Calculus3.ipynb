{
  "nbformat": 4,
  "nbformat_minor": 0,
  "metadata": {
    "colab": {
      "provenance": []
    },
    "kernelspec": {
      "name": "python3",
      "display_name": "Python 3"
    },
    "language_info": {
      "name": "python"
    }
  },
  "cells": [
    {
      "cell_type": "code",
      "execution_count": 1,
      "metadata": {
        "id": "cZl8XxmtSITN"
      },
      "outputs": [],
      "source": [
        "import sympy as sy\n",
        "import numpy as np"
      ]
    },
    {
      "cell_type": "code",
      "source": [
        "x,y = sy.symbols('x y')\n",
        "f = 3*x + 4*y - 5\n",
        "f"
      ],
      "metadata": {
        "colab": {
          "base_uri": "https://localhost:8080/",
          "height": 38
        },
        "id": "Jf4R6FkPSi0r",
        "outputId": "cae19f52-98f2-4856-ec79-5943753c9b55"
      },
      "execution_count": 2,
      "outputs": [
        {
          "output_type": "execute_result",
          "data": {
            "text/plain": [
              "3*x + 4*y - 5"
            ],
            "text/latex": "$\\displaystyle 3 x + 4 y - 5$"
          },
          "metadata": {},
          "execution_count": 2
        }
      ]
    },
    {
      "cell_type": "code",
      "source": [
        "from sympy.tensor.array import derive_by_array\n",
        "grad = derive_by_array(f, (x,y))\n",
        "grad"
      ],
      "metadata": {
        "colab": {
          "base_uri": "https://localhost:8080/",
          "height": 38
        },
        "id": "mkmrIH_oTPhN",
        "outputId": "636996bd-f3d9-4e38-9508-1a6e69ef58a1"
      },
      "execution_count": 3,
      "outputs": [
        {
          "output_type": "execute_result",
          "data": {
            "text/plain": [
              "[3, 4]"
            ],
            "text/latex": "$\\displaystyle \\left[\\begin{matrix}3 & 4\\end{matrix}\\right]$"
          },
          "metadata": {},
          "execution_count": 3
        }
      ]
    },
    {
      "cell_type": "code",
      "source": [
        "type(grad)"
      ],
      "metadata": {
        "colab": {
          "base_uri": "https://localhost:8080/"
        },
        "id": "HW07gD9ITUkT",
        "outputId": "ff5ab84a-1326-4798-9d0a-5f59a9e9b4fe"
      },
      "execution_count": 4,
      "outputs": [
        {
          "output_type": "execute_result",
          "data": {
            "text/plain": [
              "sympy.tensor.array.dense_ndim_array.ImmutableDenseNDimArray"
            ]
          },
          "metadata": {},
          "execution_count": 4
        }
      ]
    },
    {
      "cell_type": "code",
      "source": [],
      "metadata": {
        "id": "7_gWHn1OTa5Y"
      },
      "execution_count": null,
      "outputs": []
    }
  ]
}