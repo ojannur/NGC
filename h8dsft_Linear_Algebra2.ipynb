{
  "nbformat": 4,
  "nbformat_minor": 0,
  "metadata": {
    "colab": {
      "provenance": []
    },
    "kernelspec": {
      "name": "python3",
      "display_name": "Python 3"
    },
    "language_info": {
      "name": "python"
    }
  },
  "cells": [
    {
      "cell_type": "code",
      "execution_count": 1,
      "metadata": {
        "id": "4XJI9GNLgYCK"
      },
      "outputs": [],
      "source": [
        "import numpy as np\n",
        "import matplotlib.pyplot as plt"
      ]
    },
    {
      "cell_type": "code",
      "source": [
        "def plot_vector2d(vector2d, origin=[0, 0], **options):\n",
        "    return plt.arrow(origin[0], origin[1], vector2d[0], vector2d[1],\n",
        "              head_width=0.2, head_length=0.3, length_includes_head=True,\n",
        "              **options)"
      ],
      "metadata": {
        "id": "4er8eWwtggSp"
      },
      "execution_count": 2,
      "outputs": []
    },
    {
      "cell_type": "markdown",
      "source": [
        "Jawaban nomor 1"
      ],
      "metadata": {
        "id": "8eyQ3AudgrFE"
      }
    },
    {
      "cell_type": "code",
      "source": [
        "M1 = np.array([[23,50],\n",
        "               [7,12]])\n",
        "M2 = np.array([[57,67],\n",
        "               [99,43]])\n",
        "M3 = np.array([[75,21],\n",
        "               [57,12]])\n",
        "M4 = np.array([[87,26],\n",
        "               [18,84]])"
      ],
      "metadata": {
        "id": "dFpmMuSXgmws"
      },
      "execution_count": 3,
      "outputs": []
    },
    {
      "cell_type": "code",
      "source": [
        "tensor = np.array([M1,M2,M3,M4])\n",
        "tensor"
      ],
      "metadata": {
        "colab": {
          "base_uri": "https://localhost:8080/"
        },
        "id": "PRsBk7TxiDTp",
        "outputId": "1324593e-3df4-44a1-f773-42bda2051407"
      },
      "execution_count": 4,
      "outputs": [
        {
          "output_type": "execute_result",
          "data": {
            "text/plain": [
              "array([[[23, 50],\n",
              "        [ 7, 12]],\n",
              "\n",
              "       [[57, 67],\n",
              "        [99, 43]],\n",
              "\n",
              "       [[75, 21],\n",
              "        [57, 12]],\n",
              "\n",
              "       [[87, 26],\n",
              "        [18, 84]]])"
            ]
          },
          "metadata": {},
          "execution_count": 4
        }
      ]
    },
    {
      "cell_type": "markdown",
      "source": [
        "Jawaban nomor 2"
      ],
      "metadata": {
        "id": "QolAdT6AkVC-"
      }
    },
    {
      "cell_type": "code",
      "source": [
        "A = np.array([[23, 50, 19],\n",
        "              [7, 12, 109],\n",
        "              [57, 67, 98]])\n",
        "\n",
        "B = np.array([[17], \n",
        "              [22], \n",
        "              [19]])"
      ],
      "metadata": {
        "id": "w1O-StWdiG19"
      },
      "execution_count": 8,
      "outputs": []
    },
    {
      "cell_type": "code",
      "source": [
        "A @ B"
      ],
      "metadata": {
        "colab": {
          "base_uri": "https://localhost:8080/"
        },
        "id": "6YuY58GZjfSE",
        "outputId": "ce03fb56-9704-446d-aa7d-75595d8bb019"
      },
      "execution_count": 9,
      "outputs": [
        {
          "output_type": "execute_result",
          "data": {
            "text/plain": [
              "array([[1852],\n",
              "       [2454],\n",
              "       [4305]])"
            ]
          },
          "metadata": {},
          "execution_count": 9
        }
      ]
    },
    {
      "cell_type": "markdown",
      "source": [
        "Jawaban nomor 3"
      ],
      "metadata": {
        "id": "0tOcT085kXHC"
      }
    },
    {
      "cell_type": "code",
      "source": [
        "A = np.array([[23, 50, 19],\n",
        "              [7, 12, 109],\n",
        "              [57, 67, 98]])"
      ],
      "metadata": {
        "id": "LG9xzeOWjng7"
      },
      "execution_count": 10,
      "outputs": []
    },
    {
      "cell_type": "code",
      "source": [
        "np.transpose(A)"
      ],
      "metadata": {
        "colab": {
          "base_uri": "https://localhost:8080/"
        },
        "id": "aA6ljaJAkeFP",
        "outputId": "ce33fe42-ec4c-4615-e326-6038423e87a4"
      },
      "execution_count": 11,
      "outputs": [
        {
          "output_type": "execute_result",
          "data": {
            "text/plain": [
              "array([[ 23,   7,  57],\n",
              "       [ 50,  12,  67],\n",
              "       [ 19, 109,  98]])"
            ]
          },
          "metadata": {},
          "execution_count": 11
        }
      ]
    },
    {
      "cell_type": "code",
      "source": [
        "np.linalg.det(A)"
      ],
      "metadata": {
        "colab": {
          "base_uri": "https://localhost:8080/"
        },
        "id": "0hNcS9Qzk-6l",
        "outputId": "03b76a86-6ec3-4178-e2a5-4d6dedc8e0d7"
      },
      "execution_count": 12,
      "outputs": [
        {
          "output_type": "execute_result",
          "data": {
            "text/plain": [
              "131344.0000000002"
            ]
          },
          "metadata": {},
          "execution_count": 12
        }
      ]
    },
    {
      "cell_type": "code",
      "source": [
        "np.linalg.inv(A)"
      ],
      "metadata": {
        "colab": {
          "base_uri": "https://localhost:8080/"
        },
        "id": "A1TrWYrylLMl",
        "outputId": "ab1b36c2-ccd5-42dc-8782-f51628c616d4"
      },
      "execution_count": 13,
      "outputs": [
        {
          "output_type": "execute_result",
          "data": {
            "text/plain": [
              "array([[-0.0466485 , -0.02761451,  0.03975819],\n",
              "       [ 0.04208034,  0.00891552, -0.01807467],\n",
              "       [-0.00163692,  0.0099662 , -0.00056341]])"
            ]
          },
          "metadata": {},
          "execution_count": 13
        }
      ]
    },
    {
      "cell_type": "code",
      "source": [],
      "metadata": {
        "id": "I-5ElFRylXl8"
      },
      "execution_count": null,
      "outputs": []
    }
  ]
}