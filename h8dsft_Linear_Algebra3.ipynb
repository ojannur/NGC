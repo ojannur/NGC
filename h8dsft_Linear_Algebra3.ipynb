{
  "nbformat": 4,
  "nbformat_minor": 0,
  "metadata": {
    "colab": {
      "provenance": []
    },
    "kernelspec": {
      "name": "python3",
      "display_name": "Python 3"
    },
    "language_info": {
      "name": "python"
    }
  },
  "cells": [
    {
      "cell_type": "markdown",
      "source": [
        "## Jawaban nomor 1\n",
        "\n",
        "Bukan, karena hasil dari fungsi menggunakan rumus matematika yaitu menjadi [-2, 18] vyang dimana ada nilai minus didalamnya padahal nilai eigenvector awal postifi semua nilainya, dan seharusnya sama dengan eigenvector yang awal yaitu [1, 3]. Kemudian pada saat menentukan nilai eigen values itu hasilnya negatif, yang dimana kalo negatif nilai eigen valuesnya akan mempengaruhi pada eigen vectornya yang dimana nilai aslinya positif."
      ],
      "metadata": {
        "id": "gDBL0FGxFnqW"
      }
    },
    {
      "cell_type": "code",
      "source": [],
      "metadata": {
        "id": "U4oBYjh6Gi4A"
      },
      "execution_count": null,
      "outputs": []
    }
  ]
}